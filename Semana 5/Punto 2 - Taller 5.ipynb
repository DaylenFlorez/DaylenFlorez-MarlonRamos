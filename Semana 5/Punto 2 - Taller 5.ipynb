{
 "cells": [
  {
   "cell_type": "markdown",
   "metadata": {},
   "source": [
    "## 2. Método Multipaso"
   ]
  },
  {
   "cell_type": "markdown",
   "metadata": {},
   "source": [
    "### 2.1 Encuentre los coeficientes del método de Adams-Bashforth de tres puntos"
   ]
  },
  {
   "cell_type": "code",
   "execution_count": 9,
   "metadata": {},
   "outputs": [],
   "source": [
    "import numpy as np\n",
    "import sympy as sym"
   ]
  },
  {
   "cell_type": "markdown",
   "metadata": {},
   "source": [
    "$[t_{n-2},t_{n-1},t_{n},t_{n+1},t_{n+2}]$  \n",
    "$[-2h, -h, 0, h, 2h]$"
   ]
  },
  {
   "cell_type": "code",
   "execution_count": 11,
   "metadata": {},
   "outputs": [],
   "source": [
    "t = sym.Symbol(\"t\",Real= True)\n",
    "h = sym.Symbol(\"h\",Real= True)"
   ]
  },
  {
   "cell_type": "markdown",
   "metadata": {},
   "source": [
    "Método de Adams-Bashforth de tres puntos:  \n",
    "$y_{n+1} = y_{n} + \\frac{h}{12} (23 f_{n} - 16 f_{n-1} + 5 f_{n-2})$"
   ]
  },
  {
   "cell_type": "code",
   "execution_count": 12,
   "metadata": {},
   "outputs": [],
   "source": [
    "f1 = (t-(-h))*(t-(-2*h))/(2*h**2)\n",
    "f2 = -t*(t-(-2*h))/(h**2)\n",
    "f3 = (t-(-h))*(t) /(2*h**2)"
   ]
  },
  {
   "cell_type": "code",
   "execution_count": 17,
   "metadata": {},
   "outputs": [],
   "source": [
    "Coef_1 = sym.integrate(f1, (t,0,h))\n",
    "Coef_2 = sym.integrate(f2, (t,0,h))\n",
    "Coef_3 = sym.integrate(f3, (t,0,h))"
   ]
  },
  {
   "cell_type": "code",
   "execution_count": 18,
   "metadata": {},
   "outputs": [
    {
     "name": "stdout",
     "output_type": "stream",
     "text": [
      "Los coeficientes obtenidos para el método Adams-Bashforth de tres puntos son: (23*h/12), (-4*h/3) y (5*h/12) \n"
     ]
    }
   ],
   "source": [
    "print(\"Los coeficientes obtenidos para el método Adams-Bashforth de tres puntos son: ({}), ({}) y ({}) \".format(Coef_1,Coef_2,Coef_3))"
   ]
  },
  {
   "cell_type": "markdown",
   "metadata": {},
   "source": [
    "Método de Adams-Moulton de tres puntos:  \n",
    "$y_{n+1} = y_{n} + \\frac{h}{12} (5 f_{n+1} +8 f_{n} - f_{n-1})$"
   ]
  },
  {
   "cell_type": "code",
   "execution_count": 19,
   "metadata": {},
   "outputs": [],
   "source": [
    "f1 = (t-(-h))*t/(2*h**2)\n",
    "f2 = -(t-h)*(t-(-h))/(h**2)\n",
    "f3 = (t-h)*t /(2*h**2)"
   ]
  },
  {
   "cell_type": "code",
   "execution_count": 20,
   "metadata": {},
   "outputs": [],
   "source": [
    "Coef_1 = sym.integrate(f1, (t,0,h))\n",
    "Coef_2 = sym.integrate(f2, (t,0,h))\n",
    "Coef_3 = sym.integrate(f3, (t,0,h))"
   ]
  },
  {
   "cell_type": "code",
   "execution_count": 21,
   "metadata": {},
   "outputs": [
    {
     "name": "stdout",
     "output_type": "stream",
     "text": [
      "Los coeficientes obtenidos para el método Adams-Moulton de tres puntos son: (5*h/12), (2*h/3) y (-h/12) \n"
     ]
    }
   ],
   "source": [
    "print(\"Los coeficientes obtenidos para el método Adams-Moulton de tres puntos son: ({}), ({}) y ({}) \".format(Coef_1,Coef_2,Coef_3))"
   ]
  },
  {
   "cell_type": "markdown",
   "metadata": {},
   "source": [
    "Encuentre los coeficientes del método de Adams-Bashforth de cuatro puntos:  \n",
    "$y_{n+1} = y_{n} + \\frac{h}{24} (55 f_{n} - 59 f_{n-1} + 37 f_{n-2} - 9 f_{n-3})$"
   ]
  },
  {
   "cell_type": "code",
   "execution_count": 22,
   "metadata": {},
   "outputs": [],
   "source": [
    "f1 = (t-(-h))*(t-(-2*h))*(t-(-3*h))/(6*h**3)\n",
    "f2 = -t*(t-(-2*h))*(t-(-3*h))/(2*h**3)\n",
    "f3 = (t-(-h))*(t)*(t-(-3*h)) /(2*h**3)\n",
    "f4 = -(t-(-h))*(t)*(t-(-2*h)) /(6*h**3)"
   ]
  },
  {
   "cell_type": "code",
   "execution_count": 23,
   "metadata": {},
   "outputs": [],
   "source": [
    "Coef_1 = sym.integrate(f1, (t,0,h))\n",
    "Coef_2 = sym.integrate(f2, (t,0,h))\n",
    "Coef_3 = sym.integrate(f3, (t,0,h))\n",
    "Coef_4 = sym.integrate(f4, (t,0,h))"
   ]
  },
  {
   "cell_type": "code",
   "execution_count": 24,
   "metadata": {},
   "outputs": [
    {
     "name": "stdout",
     "output_type": "stream",
     "text": [
      "Los coeficientes obtenidos para el método Adams-Bashforth de cuatro puntos son: (55*h/24), (-59*h/24), (37*h/24) y (-3*h/8) \n"
     ]
    }
   ],
   "source": [
    "print(\"Los coeficientes obtenidos para el método Adams-Bashforth de cuatro puntos son: ({}), ({}), ({}) y ({}) \".format(Coef_1,Coef_2,Coef_3,Coef_4))"
   ]
  },
  {
   "cell_type": "markdown",
   "metadata": {},
   "source": [
    "Encuentre los coeficientes del método de Adams-Moulton de cuatro puntos:  \n",
    "$y_{n+1} = y_{n} + \\frac{h}{24} (9 f_{n+1} + 19 f_{n} - 5 f_{n-1} + f_{n-2})$"
   ]
  },
  {
   "cell_type": "code",
   "execution_count": 25,
   "metadata": {},
   "outputs": [],
   "source": [
    "f1 = (t-(-h))*(t-(-2*h))*(t)/(6*h**3)\n",
    "f2 = -(t-h)*(t-(-2*h))*(t-(-h))/(2*h**3)\n",
    "f3 = (t-h)*(t-(-2*h))*(t) /(2*h**3)\n",
    "f4 = -(t-h)*(t-(-h))*(t) /(6*h**3)"
   ]
  },
  {
   "cell_type": "code",
   "execution_count": 26,
   "metadata": {},
   "outputs": [],
   "source": [
    "Coef_1 = sym.integrate(f1, (t,0,h))\n",
    "Coef_2 = sym.integrate(f2, (t,0,h))\n",
    "Coef_3 = sym.integrate(f3, (t,0,h))\n",
    "Coef_4 = sym.integrate(f4, (t,0,h))"
   ]
  },
  {
   "cell_type": "code",
   "execution_count": 27,
   "metadata": {},
   "outputs": [
    {
     "name": "stdout",
     "output_type": "stream",
     "text": [
      "Los coeficientes obtenidos para el método Adams-Moulton de cuatro puntos son: (3*h/8), (19*h/24), (-5*h/24) y (h/24) \n"
     ]
    }
   ],
   "source": [
    "print(\"Los coeficientes obtenidos para el método Adams-Moulton de cuatro puntos son: ({}), ({}), ({}) y ({}) \".format(Coef_1,Coef_2,Coef_3,Coef_4))"
   ]
  }
 ],
 "metadata": {
  "kernelspec": {
   "display_name": "Python 3",
   "language": "python",
   "name": "python3"
  },
  "language_info": {
   "codemirror_mode": {
    "name": "ipython",
    "version": 3
   },
   "file_extension": ".py",
   "mimetype": "text/x-python",
   "name": "python",
   "nbconvert_exporter": "python",
   "pygments_lexer": "ipython3",
   "version": "3.7.4"
  }
 },
 "nbformat": 4,
 "nbformat_minor": 2
}
